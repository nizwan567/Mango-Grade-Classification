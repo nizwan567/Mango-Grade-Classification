{
 "cells": [
  {
   "cell_type": "markdown",
   "id": "3f5d4577",
   "metadata": {},
   "source": [
    "# Harum Manis Mango Grade Prediction with Classification ML"
   ]
  },
  {
   "cell_type": "markdown",
   "id": "3d9a3f7c",
   "metadata": {},
   "source": [
    "About the dataset:\n",
    "\n",
    "The dataset contains physical measurement of Harumanis Mango (clone number MA 128) collected from the Fruit Collection Center, FAMA Perlis, Malaysia. \n",
    "\n",
    "Citation:\n",
    "Mohammad Hafiz Ismail, Tajul Rosli Razak, Ray Adderley JM Gining, & Mohd Nazuan Wagimin. (2022). Harumanis Mango Physical Measurements [Data set]. Kaggle. https://doi.org/10.34740/KAGGLE/DS/2366811"
   ]
  },
  {
   "cell_type": "code",
   "execution_count": 588,
   "id": "889d888a",
   "metadata": {},
   "outputs": [],
   "source": [
    "import pandas as pd, mysql.connector as sq\n",
    "import numpy as np\n",
    "import seaborn as sns\n",
    "\n",
    "import warnings\n",
    "warnings.filterwarnings(\"ignore\")"
   ]
  },
  {
   "cell_type": "code",
   "execution_count": 589,
   "id": "02fafdff",
   "metadata": {},
   "outputs": [],
   "source": [
    "db = sq.connect(host='localhost', database='dbp', user='root', password='mysql8033')"
   ]
  },
  {
   "cell_type": "code",
   "execution_count": 590,
   "id": "8764ebcd",
   "metadata": {},
   "outputs": [],
   "source": [
    "df=pd.read_sql('SELECT * from mango', con=db)"
   ]
  },
  {
   "cell_type": "code",
   "execution_count": 591,
   "id": "59cac392",
   "metadata": {
    "scrolled": false
   },
   "outputs": [
    {
     "data": {
      "text/html": [
       "<div>\n",
       "<style scoped>\n",
       "    .dataframe tbody tr th:only-of-type {\n",
       "        vertical-align: middle;\n",
       "    }\n",
       "\n",
       "    .dataframe tbody tr th {\n",
       "        vertical-align: top;\n",
       "    }\n",
       "\n",
       "    .dataframe thead th {\n",
       "        text-align: right;\n",
       "    }\n",
       "</style>\n",
       "<table border=\"1\" class=\"dataframe\">\n",
       "  <thead>\n",
       "    <tr style=\"text-align: right;\">\n",
       "      <th></th>\n",
       "      <th>No</th>\n",
       "      <th>Weight</th>\n",
       "      <th>Length</th>\n",
       "      <th>Circumference</th>\n",
       "      <th>Grade</th>\n",
       "    </tr>\n",
       "  </thead>\n",
       "  <tbody>\n",
       "    <tr>\n",
       "      <th>0</th>\n",
       "      <td>1</td>\n",
       "      <td>486.5</td>\n",
       "      <td>14.0</td>\n",
       "      <td>27.0</td>\n",
       "      <td>A</td>\n",
       "    </tr>\n",
       "    <tr>\n",
       "      <th>1</th>\n",
       "      <td>2</td>\n",
       "      <td>388.4</td>\n",
       "      <td>12.0</td>\n",
       "      <td>26.0</td>\n",
       "      <td>A</td>\n",
       "    </tr>\n",
       "    <tr>\n",
       "      <th>2</th>\n",
       "      <td>3</td>\n",
       "      <td>493.7</td>\n",
       "      <td>12.0</td>\n",
       "      <td>26.5</td>\n",
       "      <td>A</td>\n",
       "    </tr>\n",
       "    <tr>\n",
       "      <th>3</th>\n",
       "      <td>4</td>\n",
       "      <td>342.5</td>\n",
       "      <td>10.0</td>\n",
       "      <td>24.3</td>\n",
       "      <td>A</td>\n",
       "    </tr>\n",
       "    <tr>\n",
       "      <th>4</th>\n",
       "      <td>5</td>\n",
       "      <td>401.5</td>\n",
       "      <td>11.0</td>\n",
       "      <td>25.0</td>\n",
       "      <td>A</td>\n",
       "    </tr>\n",
       "    <tr>\n",
       "      <th>...</th>\n",
       "      <td>...</td>\n",
       "      <td>...</td>\n",
       "      <td>...</td>\n",
       "      <td>...</td>\n",
       "      <td>...</td>\n",
       "    </tr>\n",
       "    <tr>\n",
       "      <th>100</th>\n",
       "      <td>101</td>\n",
       "      <td>296.0</td>\n",
       "      <td>11.7</td>\n",
       "      <td>22.2</td>\n",
       "      <td>C</td>\n",
       "    </tr>\n",
       "    <tr>\n",
       "      <th>101</th>\n",
       "      <td>102</td>\n",
       "      <td>306.1</td>\n",
       "      <td>11.9</td>\n",
       "      <td>22.7</td>\n",
       "      <td>C</td>\n",
       "    </tr>\n",
       "    <tr>\n",
       "      <th>102</th>\n",
       "      <td>103</td>\n",
       "      <td>240.0</td>\n",
       "      <td>10.2</td>\n",
       "      <td>20.8</td>\n",
       "      <td>C</td>\n",
       "    </tr>\n",
       "    <tr>\n",
       "      <th>103</th>\n",
       "      <td>104</td>\n",
       "      <td>268.4</td>\n",
       "      <td>10.7</td>\n",
       "      <td>20.9</td>\n",
       "      <td>C</td>\n",
       "    </tr>\n",
       "    <tr>\n",
       "      <th>104</th>\n",
       "      <td>105</td>\n",
       "      <td>275.3</td>\n",
       "      <td>10.8</td>\n",
       "      <td>21.2</td>\n",
       "      <td>C</td>\n",
       "    </tr>\n",
       "  </tbody>\n",
       "</table>\n",
       "<p>105 rows × 5 columns</p>\n",
       "</div>"
      ],
      "text/plain": [
       "      No  Weight  Length  Circumference Grade\n",
       "0      1   486.5    14.0           27.0     A\n",
       "1      2   388.4    12.0           26.0     A\n",
       "2      3   493.7    12.0           26.5     A\n",
       "3      4   342.5    10.0           24.3     A\n",
       "4      5   401.5    11.0           25.0     A\n",
       "..   ...     ...     ...            ...   ...\n",
       "100  101   296.0    11.7           22.2     C\n",
       "101  102   306.1    11.9           22.7     C\n",
       "102  103   240.0    10.2           20.8     C\n",
       "103  104   268.4    10.7           20.9     C\n",
       "104  105   275.3    10.8           21.2     C\n",
       "\n",
       "[105 rows x 5 columns]"
      ]
     },
     "execution_count": 591,
     "metadata": {},
     "output_type": "execute_result"
    }
   ],
   "source": [
    "df"
   ]
  },
  {
   "cell_type": "code",
   "execution_count": 592,
   "id": "e7c9aa0a",
   "metadata": {},
   "outputs": [
    {
     "name": "stdout",
     "output_type": "stream",
     "text": [
      "<class 'pandas.core.frame.DataFrame'>\n",
      "RangeIndex: 105 entries, 0 to 104\n",
      "Data columns (total 5 columns):\n",
      " #   Column         Non-Null Count  Dtype  \n",
      "---  ------         --------------  -----  \n",
      " 0   No             105 non-null    int64  \n",
      " 1   Weight         105 non-null    float64\n",
      " 2   Length         105 non-null    float64\n",
      " 3   Circumference  105 non-null    float64\n",
      " 4   Grade          105 non-null    object \n",
      "dtypes: float64(3), int64(1), object(1)\n",
      "memory usage: 4.2+ KB\n"
     ]
    }
   ],
   "source": [
    "df.info()"
   ]
  },
  {
   "cell_type": "code",
   "execution_count": 593,
   "id": "aec66a3a",
   "metadata": {},
   "outputs": [
    {
     "data": {
      "text/html": [
       "<div>\n",
       "<style scoped>\n",
       "    .dataframe tbody tr th:only-of-type {\n",
       "        vertical-align: middle;\n",
       "    }\n",
       "\n",
       "    .dataframe tbody tr th {\n",
       "        vertical-align: top;\n",
       "    }\n",
       "\n",
       "    .dataframe thead th {\n",
       "        text-align: right;\n",
       "    }\n",
       "</style>\n",
       "<table border=\"1\" class=\"dataframe\">\n",
       "  <thead>\n",
       "    <tr style=\"text-align: right;\">\n",
       "      <th></th>\n",
       "      <th>No</th>\n",
       "      <th>Weight</th>\n",
       "      <th>Length</th>\n",
       "      <th>Circumference</th>\n",
       "    </tr>\n",
       "  </thead>\n",
       "  <tbody>\n",
       "    <tr>\n",
       "      <th>count</th>\n",
       "      <td>105.000000</td>\n",
       "      <td>105.000000</td>\n",
       "      <td>105.000000</td>\n",
       "      <td>105.000000</td>\n",
       "    </tr>\n",
       "    <tr>\n",
       "      <th>mean</th>\n",
       "      <td>53.000000</td>\n",
       "      <td>351.010476</td>\n",
       "      <td>11.988571</td>\n",
       "      <td>23.820952</td>\n",
       "    </tr>\n",
       "    <tr>\n",
       "      <th>std</th>\n",
       "      <td>30.454885</td>\n",
       "      <td>74.172386</td>\n",
       "      <td>1.250486</td>\n",
       "      <td>2.235238</td>\n",
       "    </tr>\n",
       "    <tr>\n",
       "      <th>min</th>\n",
       "      <td>1.000000</td>\n",
       "      <td>235.000000</td>\n",
       "      <td>10.000000</td>\n",
       "      <td>20.300000</td>\n",
       "    </tr>\n",
       "    <tr>\n",
       "      <th>25%</th>\n",
       "      <td>27.000000</td>\n",
       "      <td>290.500000</td>\n",
       "      <td>10.900000</td>\n",
       "      <td>21.700000</td>\n",
       "    </tr>\n",
       "    <tr>\n",
       "      <th>50%</th>\n",
       "      <td>53.000000</td>\n",
       "      <td>341.700000</td>\n",
       "      <td>11.800000</td>\n",
       "      <td>24.000000</td>\n",
       "    </tr>\n",
       "    <tr>\n",
       "      <th>75%</th>\n",
       "      <td>79.000000</td>\n",
       "      <td>407.900000</td>\n",
       "      <td>12.800000</td>\n",
       "      <td>25.800000</td>\n",
       "    </tr>\n",
       "    <tr>\n",
       "      <th>max</th>\n",
       "      <td>105.000000</td>\n",
       "      <td>571.900000</td>\n",
       "      <td>15.400000</td>\n",
       "      <td>29.900000</td>\n",
       "    </tr>\n",
       "  </tbody>\n",
       "</table>\n",
       "</div>"
      ],
      "text/plain": [
       "               No      Weight      Length  Circumference\n",
       "count  105.000000  105.000000  105.000000     105.000000\n",
       "mean    53.000000  351.010476   11.988571      23.820952\n",
       "std     30.454885   74.172386    1.250486       2.235238\n",
       "min      1.000000  235.000000   10.000000      20.300000\n",
       "25%     27.000000  290.500000   10.900000      21.700000\n",
       "50%     53.000000  341.700000   11.800000      24.000000\n",
       "75%     79.000000  407.900000   12.800000      25.800000\n",
       "max    105.000000  571.900000   15.400000      29.900000"
      ]
     },
     "execution_count": 593,
     "metadata": {},
     "output_type": "execute_result"
    }
   ],
   "source": [
    "# Summary statistics for numerical data\n",
    "numerical_data = df.select_dtypes(include=[np.number])\n",
    "numerical_data.describe()"
   ]
  },
  {
   "cell_type": "code",
   "execution_count": 594,
   "id": "90799826",
   "metadata": {
    "scrolled": true
   },
   "outputs": [
    {
     "data": {
      "text/plain": [
       "C    38\n",
       "A    34\n",
       "B    33\n",
       "Name: Grade, dtype: int64"
      ]
     },
     "execution_count": 594,
     "metadata": {},
     "output_type": "execute_result"
    }
   ],
   "source": [
    "# Summary statistics for numerical data\n",
    "df['Grade'].value_counts()\n"
   ]
  },
  {
   "cell_type": "markdown",
   "id": "512d61cc",
   "metadata": {},
   "source": [
    "\n",
    "# Data Cleaning & preparation"
   ]
  },
  {
   "cell_type": "code",
   "execution_count": 595,
   "id": "00bd4623",
   "metadata": {},
   "outputs": [
    {
     "data": {
      "text/plain": [
       "No               0\n",
       "Weight           0\n",
       "Length           0\n",
       "Circumference    0\n",
       "Grade            0\n",
       "dtype: int64"
      ]
     },
     "execution_count": 595,
     "metadata": {},
     "output_type": "execute_result"
    }
   ],
   "source": [
    "# Check for missing value\n",
    "df.isnull().sum()\n"
   ]
  },
  {
   "cell_type": "code",
   "execution_count": 596,
   "id": "256e2b6a",
   "metadata": {
    "scrolled": true
   },
   "outputs": [],
   "source": [
    "\n",
    "df1=df.drop(columns='No', axis=1)"
   ]
  },
  {
   "cell_type": "code",
   "execution_count": 597,
   "id": "46f8f8f3",
   "metadata": {
    "scrolled": true
   },
   "outputs": [
    {
     "data": {
      "text/html": [
       "<div>\n",
       "<style scoped>\n",
       "    .dataframe tbody tr th:only-of-type {\n",
       "        vertical-align: middle;\n",
       "    }\n",
       "\n",
       "    .dataframe tbody tr th {\n",
       "        vertical-align: top;\n",
       "    }\n",
       "\n",
       "    .dataframe thead th {\n",
       "        text-align: right;\n",
       "    }\n",
       "</style>\n",
       "<table border=\"1\" class=\"dataframe\">\n",
       "  <thead>\n",
       "    <tr style=\"text-align: right;\">\n",
       "      <th></th>\n",
       "      <th>Weight</th>\n",
       "      <th>Length</th>\n",
       "      <th>Circumference</th>\n",
       "      <th>Grade</th>\n",
       "    </tr>\n",
       "  </thead>\n",
       "  <tbody>\n",
       "    <tr>\n",
       "      <th>0</th>\n",
       "      <td>486.5</td>\n",
       "      <td>14.0</td>\n",
       "      <td>27.0</td>\n",
       "      <td>A</td>\n",
       "    </tr>\n",
       "    <tr>\n",
       "      <th>1</th>\n",
       "      <td>388.4</td>\n",
       "      <td>12.0</td>\n",
       "      <td>26.0</td>\n",
       "      <td>A</td>\n",
       "    </tr>\n",
       "    <tr>\n",
       "      <th>2</th>\n",
       "      <td>493.7</td>\n",
       "      <td>12.0</td>\n",
       "      <td>26.5</td>\n",
       "      <td>A</td>\n",
       "    </tr>\n",
       "    <tr>\n",
       "      <th>3</th>\n",
       "      <td>342.5</td>\n",
       "      <td>10.0</td>\n",
       "      <td>24.3</td>\n",
       "      <td>A</td>\n",
       "    </tr>\n",
       "    <tr>\n",
       "      <th>4</th>\n",
       "      <td>401.5</td>\n",
       "      <td>11.0</td>\n",
       "      <td>25.0</td>\n",
       "      <td>A</td>\n",
       "    </tr>\n",
       "    <tr>\n",
       "      <th>...</th>\n",
       "      <td>...</td>\n",
       "      <td>...</td>\n",
       "      <td>...</td>\n",
       "      <td>...</td>\n",
       "    </tr>\n",
       "    <tr>\n",
       "      <th>100</th>\n",
       "      <td>296.0</td>\n",
       "      <td>11.7</td>\n",
       "      <td>22.2</td>\n",
       "      <td>C</td>\n",
       "    </tr>\n",
       "    <tr>\n",
       "      <th>101</th>\n",
       "      <td>306.1</td>\n",
       "      <td>11.9</td>\n",
       "      <td>22.7</td>\n",
       "      <td>C</td>\n",
       "    </tr>\n",
       "    <tr>\n",
       "      <th>102</th>\n",
       "      <td>240.0</td>\n",
       "      <td>10.2</td>\n",
       "      <td>20.8</td>\n",
       "      <td>C</td>\n",
       "    </tr>\n",
       "    <tr>\n",
       "      <th>103</th>\n",
       "      <td>268.4</td>\n",
       "      <td>10.7</td>\n",
       "      <td>20.9</td>\n",
       "      <td>C</td>\n",
       "    </tr>\n",
       "    <tr>\n",
       "      <th>104</th>\n",
       "      <td>275.3</td>\n",
       "      <td>10.8</td>\n",
       "      <td>21.2</td>\n",
       "      <td>C</td>\n",
       "    </tr>\n",
       "  </tbody>\n",
       "</table>\n",
       "<p>105 rows × 4 columns</p>\n",
       "</div>"
      ],
      "text/plain": [
       "     Weight  Length  Circumference Grade\n",
       "0     486.5    14.0           27.0     A\n",
       "1     388.4    12.0           26.0     A\n",
       "2     493.7    12.0           26.5     A\n",
       "3     342.5    10.0           24.3     A\n",
       "4     401.5    11.0           25.0     A\n",
       "..      ...     ...            ...   ...\n",
       "100   296.0    11.7           22.2     C\n",
       "101   306.1    11.9           22.7     C\n",
       "102   240.0    10.2           20.8     C\n",
       "103   268.4    10.7           20.9     C\n",
       "104   275.3    10.8           21.2     C\n",
       "\n",
       "[105 rows x 4 columns]"
      ]
     },
     "execution_count": 597,
     "metadata": {},
     "output_type": "execute_result"
    }
   ],
   "source": [
    "df1"
   ]
  },
  {
   "cell_type": "markdown",
   "id": "7e88d24a",
   "metadata": {},
   "source": [
    "# EDA"
   ]
  },
  {
   "cell_type": "code",
   "execution_count": 598,
   "id": "e4d0c383",
   "metadata": {
    "scrolled": false
   },
   "outputs": [
    {
     "data": {
      "text/plain": [
       "array([[<AxesSubplot:title={'center':'Weight'}>,\n",
       "        <AxesSubplot:title={'center':'Length'}>],\n",
       "       [<AxesSubplot:title={'center':'Circumference'}>, <AxesSubplot:>]],\n",
       "      dtype=object)"
      ]
     },
     "execution_count": 598,
     "metadata": {},
     "output_type": "execute_result"
    },
    {
     "data": {
      "image/png": "[encoded data removed]",
      "text/plain": [
       "<Figure size 640x480 with 4 Axes>"
      ]
     },
     "metadata": {},
     "output_type": "display_data"
    }
   ],
   "source": [
    "#checking any outliers presence\n",
    "df1.hist(bins=15)"
   ]
  },
  {
   "cell_type": "markdown",
   "id": "1d115613",
   "metadata": {},
   "source": [
    "Inference: All data features show mild skewness distribution"
   ]
  },
  {
   "cell_type": "code",
   "execution_count": 599,
   "id": "27f13b1a",
   "metadata": {
    "scrolled": true
   },
   "outputs": [
    {
     "data": {
      "text/plain": [
       "<AxesSubplot:xlabel='variable', ylabel='value'>"
      ]
     },
     "execution_count": 599,
     "metadata": {},
     "output_type": "execute_result"
    },
    {
     "data": {
      "image/png": "[encoded data removed]",
      "text/plain": [
       "<Figure size 640x480 with 1 Axes>"
      ]
     },
     "metadata": {},
     "output_type": "display_data"
    }
   ],
   "source": [
    "sns.boxplot(data=pd.melt(df1.iloc[:,:3]), x='variable', y='value')"
   ]
  },
  {
   "cell_type": "markdown",
   "id": "4866d1da",
   "metadata": {},
   "source": [
    "Inference: No significant outliers present"
   ]
  },
  {
   "cell_type": "code",
   "execution_count": 600,
   "id": "c33c7742",
   "metadata": {
    "scrolled": false
   },
   "outputs": [
    {
     "data": {
      "text/plain": [
       "<seaborn.axisgrid.PairGrid at 0x195e90c4fa0>"
      ]
     },
     "execution_count": 600,
     "metadata": {},
     "output_type": "execute_result"
    },
    {
     "data": {
      "image/png": "[encoded data removed]",
      "text/plain": [
       "<Figure size 750x750 with 12 Axes>"
      ]
     },
     "metadata": {},
     "output_type": "display_data"
    }
   ],
   "source": [
    "# checkint the correlation between features\n",
    "sns.pairplot(df1)\n"
   ]
  },
  {
   "cell_type": "markdown",
   "id": "12e15b2c",
   "metadata": {},
   "source": [
    "Inference: Positive correlation between the physical measurement variables show proportional increament with mango sizes"
   ]
  },
  {
   "cell_type": "code",
   "execution_count": 601,
   "id": "a0f6f04c",
   "metadata": {
    "scrolled": true
   },
   "outputs": [
    {
     "data": {
      "text/plain": [
       "<AxesSubplot:>"
      ]
     },
     "execution_count": 601,
     "metadata": {},
     "output_type": "execute_result"
    },
    {
     "data": {
      "image/png": "[encoded data removed]",
      "text/plain": [
       "<Figure size 640x480 with 2 Axes>"
      ]
     },
     "metadata": {},
     "output_type": "display_data"
    }
   ],
   "source": [
    "sns.heatmap(df1.corr())"
   ]
  },
  {
   "cell_type": "markdown",
   "id": "a24c7e00",
   "metadata": {},
   "source": [
    "Inference: The heatmap shows strong relationship"
   ]
  },
  {
   "cell_type": "markdown",
   "id": "29fa288c",
   "metadata": {},
   "source": [
    "# Machine Learning"
   ]
  },
  {
   "cell_type": "code",
   "execution_count": 602,
   "id": "eae31211",
   "metadata": {},
   "outputs": [],
   "source": [
    "# data scaling for machine learning\n",
    "from sklearn.preprocessing import StandardScaler, LabelEncoder\n",
    "\n",
    "#lb=LabelEncoder()\n",
    "#df1['Grade']=lb.fit_transform(df1['Grade'])\n",
    "\n",
    "x=df1.drop('Grade', axis=1)\n",
    "y=df1['Grade']\n",
    "\n",
    "# data standardization\n",
    "#ss=StandardScaler()\n",
    "#xScaled=ss.fit_transform(x)"
   ]
  },
  {
   "cell_type": "code",
   "execution_count": 603,
   "id": "e43e3794",
   "metadata": {},
   "outputs": [
    {
     "data": {
      "text/html": [
       "<div>\n",
       "<style scoped>\n",
       "    .dataframe tbody tr th:only-of-type {\n",
       "        vertical-align: middle;\n",
       "    }\n",
       "\n",
       "    .dataframe tbody tr th {\n",
       "        vertical-align: top;\n",
       "    }\n",
       "\n",
       "    .dataframe thead th {\n",
       "        text-align: right;\n",
       "    }\n",
       "</style>\n",
       "<table border=\"1\" class=\"dataframe\">\n",
       "  <thead>\n",
       "    <tr style=\"text-align: right;\">\n",
       "      <th></th>\n",
       "      <th>Weight</th>\n",
       "      <th>Length</th>\n",
       "      <th>Circumference</th>\n",
       "      <th>Grade</th>\n",
       "    </tr>\n",
       "  </thead>\n",
       "  <tbody>\n",
       "    <tr>\n",
       "      <th>0</th>\n",
       "      <td>486.5</td>\n",
       "      <td>14.0</td>\n",
       "      <td>27.0</td>\n",
       "      <td>A</td>\n",
       "    </tr>\n",
       "    <tr>\n",
       "      <th>1</th>\n",
       "      <td>388.4</td>\n",
       "      <td>12.0</td>\n",
       "      <td>26.0</td>\n",
       "      <td>A</td>\n",
       "    </tr>\n",
       "    <tr>\n",
       "      <th>2</th>\n",
       "      <td>493.7</td>\n",
       "      <td>12.0</td>\n",
       "      <td>26.5</td>\n",
       "      <td>A</td>\n",
       "    </tr>\n",
       "    <tr>\n",
       "      <th>3</th>\n",
       "      <td>342.5</td>\n",
       "      <td>10.0</td>\n",
       "      <td>24.3</td>\n",
       "      <td>A</td>\n",
       "    </tr>\n",
       "    <tr>\n",
       "      <th>4</th>\n",
       "      <td>401.5</td>\n",
       "      <td>11.0</td>\n",
       "      <td>25.0</td>\n",
       "      <td>A</td>\n",
       "    </tr>\n",
       "    <tr>\n",
       "      <th>...</th>\n",
       "      <td>...</td>\n",
       "      <td>...</td>\n",
       "      <td>...</td>\n",
       "      <td>...</td>\n",
       "    </tr>\n",
       "    <tr>\n",
       "      <th>100</th>\n",
       "      <td>296.0</td>\n",
       "      <td>11.7</td>\n",
       "      <td>22.2</td>\n",
       "      <td>C</td>\n",
       "    </tr>\n",
       "    <tr>\n",
       "      <th>101</th>\n",
       "      <td>306.1</td>\n",
       "      <td>11.9</td>\n",
       "      <td>22.7</td>\n",
       "      <td>C</td>\n",
       "    </tr>\n",
       "    <tr>\n",
       "      <th>102</th>\n",
       "      <td>240.0</td>\n",
       "      <td>10.2</td>\n",
       "      <td>20.8</td>\n",
       "      <td>C</td>\n",
       "    </tr>\n",
       "    <tr>\n",
       "      <th>103</th>\n",
       "      <td>268.4</td>\n",
       "      <td>10.7</td>\n",
       "      <td>20.9</td>\n",
       "      <td>C</td>\n",
       "    </tr>\n",
       "    <tr>\n",
       "      <th>104</th>\n",
       "      <td>275.3</td>\n",
       "      <td>10.8</td>\n",
       "      <td>21.2</td>\n",
       "      <td>C</td>\n",
       "    </tr>\n",
       "  </tbody>\n",
       "</table>\n",
       "<p>105 rows × 4 columns</p>\n",
       "</div>"
      ],
      "text/plain": [
       "     Weight  Length  Circumference Grade\n",
       "0     486.5    14.0           27.0     A\n",
       "1     388.4    12.0           26.0     A\n",
       "2     493.7    12.0           26.5     A\n",
       "3     342.5    10.0           24.3     A\n",
       "4     401.5    11.0           25.0     A\n",
       "..      ...     ...            ...   ...\n",
       "100   296.0    11.7           22.2     C\n",
       "101   306.1    11.9           22.7     C\n",
       "102   240.0    10.2           20.8     C\n",
       "103   268.4    10.7           20.9     C\n",
       "104   275.3    10.8           21.2     C\n",
       "\n",
       "[105 rows x 4 columns]"
      ]
     },
     "execution_count": 603,
     "metadata": {},
     "output_type": "execute_result"
    }
   ],
   "source": [
    "df1"
   ]
  },
  {
   "cell_type": "code",
   "execution_count": 604,
   "id": "6b938528",
   "metadata": {},
   "outputs": [],
   "source": [
    "# random splitting data to train and test data\n",
    "from sklearn.model_selection import train_test_split\n",
    "xtrain, xtest, ytrain, ytest=train_test_split(xScaled, y, test_size=0.2, random_state=1)"
   ]
  },
  {
   "cell_type": "code",
   "execution_count": 605,
   "id": "3d9be6ca",
   "metadata": {},
   "outputs": [],
   "source": [
    "# Define accuracy score & confusion matrix funcction for model evaluation\n",
    "from sklearn.metrics import confusion_matrix, ConfusionMatrixDisplay, accuracy_score, classification_report\n",
    "\n",
    "def eval(model):\n",
    "             \n",
    "    trainPredict=model.predict(xtrain)  \n",
    "    testPredict=model.predict(xtest)\n",
    "    \n",
    "    trainAccScore=round(accuracy_score(ytrain,trainPredict)*100,2)\n",
    "    testAccScore=round(accuracy_score(ytest,testPredict)*100,2)\n",
    "    \n",
    "    cm=ConfusionMatrixDisplay(confusion_matrix(ytest,testPredict),display_labels=['Grade A','Grade B','Grade C']) \n",
    "                       \n",
    "    trainScore=print('Train Data Accuracy Score:',  str(trainAccScore),'%')\n",
    "    testScore=print('Test Data Accuracy Score:', str(testAccScore),'%')\n",
    "    \n",
    "    return trainAccScore,testAccScore,trainScore,testScore,cm.plot()\n"
   ]
  },
  {
   "cell_type": "code",
   "execution_count": 606,
   "id": "848aaa8f",
   "metadata": {},
   "outputs": [],
   "source": [
    "# creating table to store accuracy scores of the models\n",
    "table = pd.DataFrame(columns=['Model','Train Accuracy %','Test Accuracy %'])"
   ]
  },
  {
   "cell_type": "code",
   "execution_count": 607,
   "id": "69398970",
   "metadata": {},
   "outputs": [],
   "source": [
    "# Applying RBF-SVM Technique\n",
    "from sklearn.svm import SVC\n",
    "\n",
    "# kernel = rbf\n",
    "RBF_SVMmodel=SVC(kernel='rbf').fit(xtrain,ytrain)\n"
   ]
  },
  {
   "cell_type": "code",
   "execution_count": 608,
   "id": "058af6b5",
   "metadata": {},
   "outputs": [
    {
     "name": "stdout",
     "output_type": "stream",
     "text": [
      "Train Data Accuracy Score: 86.9 %\n",
      "Test Data Accuracy Score: 90.48 %\n"
     ]
    },
    {
     "data": {
      "image/png": "[encoded data removed]",
      "text/plain": [
       "<Figure size 640x480 with 2 Axes>"
      ]
     },
     "metadata": {},
     "output_type": "display_data"
    }
   ],
   "source": [
    "# SVM Model Evaluation\n",
    "trainAccScore,testAccScore,trainScore,testScore,cmt=eval(RBF_SVMmodel)\n",
    "\n",
    "newRow = {'Model': 'RBF_SVMmodel', 'Train Accuracy %': trainAccScore,'Test Accuracy %': testAccScore}\n",
    "table = table.append(newRow, ignore_index=True)"
   ]
  },
  {
   "cell_type": "code",
   "execution_count": 609,
   "id": "d40b2414",
   "metadata": {},
   "outputs": [
    {
     "data": {
      "text/html": [
       "<div>\n",
       "<style scoped>\n",
       "    .dataframe tbody tr th:only-of-type {\n",
       "        vertical-align: middle;\n",
       "    }\n",
       "\n",
       "    .dataframe tbody tr th {\n",
       "        vertical-align: top;\n",
       "    }\n",
       "\n",
       "    .dataframe thead th {\n",
       "        text-align: right;\n",
       "    }\n",
       "</style>\n",
       "<table border=\"1\" class=\"dataframe\">\n",
       "  <thead>\n",
       "    <tr style=\"text-align: right;\">\n",
       "      <th></th>\n",
       "      <th>Model</th>\n",
       "      <th>Train Accuracy %</th>\n",
       "      <th>Test Accuracy %</th>\n",
       "    </tr>\n",
       "  </thead>\n",
       "  <tbody>\n",
       "    <tr>\n",
       "      <th>0</th>\n",
       "      <td>RBF_SVMmodel</td>\n",
       "      <td>86.9</td>\n",
       "      <td>90.48</td>\n",
       "    </tr>\n",
       "  </tbody>\n",
       "</table>\n",
       "</div>"
      ],
      "text/plain": [
       "          Model  Train Accuracy %  Test Accuracy %\n",
       "0  RBF_SVMmodel              86.9            90.48"
      ]
     },
     "execution_count": 609,
     "metadata": {},
     "output_type": "execute_result"
    }
   ],
   "source": [
    "table"
   ]
  },
  {
   "cell_type": "code",
   "execution_count": 610,
   "id": "b8e652f4",
   "metadata": {},
   "outputs": [],
   "source": [
    "# Applying Linear-SVM Technique\n",
    "\n",
    "# kernel = linear\n",
    "linear_SVMmodel=SVC(kernel='linear').fit(xtrain,ytrain)\n"
   ]
  },
  {
   "cell_type": "code",
   "execution_count": 611,
   "id": "20844a36",
   "metadata": {
    "scrolled": true
   },
   "outputs": [
    {
     "name": "stdout",
     "output_type": "stream",
     "text": [
      "Train Data Accuracy Score: 83.33 %\n",
      "Test Data Accuracy Score: 90.48 %\n"
     ]
    },
    {
     "data": {
      "image/png": "[encoded data removed]",
      "text/plain": [
       "<Figure size 640x480 with 2 Axes>"
      ]
     },
     "metadata": {},
     "output_type": "display_data"
    }
   ],
   "source": [
    "trainAccScore,testAccScore,trainScore,testScore,cm=eval(linear_SVMmodel)\n",
    "\n",
    "newRow = {'Model': 'linear_SVMmodel', 'Train Accuracy %': trainAccScore,'Test Accuracy %': testAccScore}\n",
    "table = table.append(newRow, ignore_index=True)"
   ]
  },
  {
   "cell_type": "code",
   "execution_count": 612,
   "id": "bcc3c8fb",
   "metadata": {},
   "outputs": [],
   "source": [
    "# Applying Random Forest Technique\n",
    "from sklearn.ensemble import RandomForestClassifier\n",
    "\n",
    "RFmodel=RandomForestClassifier(criterion='entropy').fit(xtrain,ytrain)"
   ]
  },
  {
   "cell_type": "code",
   "execution_count": 613,
   "id": "dff562a6",
   "metadata": {
    "scrolled": false
   },
   "outputs": [
    {
     "name": "stdout",
     "output_type": "stream",
     "text": [
      "Train Data Accuracy Score: 100.0 %\n",
      "Test Data Accuracy Score: 85.71 %\n"
     ]
    },
    {
     "data": {
      "image/png": "[encoded data removed]",
      "text/plain": [
       "<Figure size 640x480 with 2 Axes>"
      ]
     },
     "metadata": {},
     "output_type": "display_data"
    }
   ],
   "source": [
    "# Random Forest Model Evaluation\n",
    "trainAccScore,testAccScore,trainScore,testScore,cm=eval(RFmodel)\n",
    "\n",
    "newRow = {'Model': 'Random Forest model', 'Train Accuracy %': trainAccScore,'Test Accuracy %': testAccScore}\n",
    "table = table.append(newRow, ignore_index=True)"
   ]
  },
  {
   "cell_type": "code",
   "execution_count": 614,
   "id": "ba2586e3",
   "metadata": {
    "scrolled": false
   },
   "outputs": [
    {
     "data": {
      "text/plain": [
       "{'n_neighbors': 2}"
      ]
     },
     "execution_count": 614,
     "metadata": {},
     "output_type": "execute_result"
    }
   ],
   "source": [
    "# Applying K Nearest Neighbours Classifier tuning with GridsearchCV to find best K value\n",
    "\n",
    "from sklearn.neighbors import KNeighborsClassifier\n",
    "from sklearn.model_selection import GridSearchCV\n",
    "\n",
    "knn=KNeighborsClassifier()\n",
    "params={'n_neighbors':[1,2,3,4,5,6,7,8,9,10,11,12,13,14,15]}\n",
    "\n",
    "bestParam=GridSearchCV(estimator=knn,param_grid=params).fit(xtrain,ytrain).best_params_\n",
    "bestParam"
   ]
  },
  {
   "cell_type": "code",
   "execution_count": 615,
   "id": "6c7bffde",
   "metadata": {},
   "outputs": [],
   "source": [
    "KNNmodel=KNeighborsClassifier(n_neighbors=2).fit(xtrain,ytrain)"
   ]
  },
  {
   "cell_type": "code",
   "execution_count": 616,
   "id": "9bf5a75d",
   "metadata": {},
   "outputs": [
    {
     "name": "stdout",
     "output_type": "stream",
     "text": [
      "Train Data Accuracy Score: 89.29 %\n",
      "Test Data Accuracy Score: 71.43 %\n"
     ]
    },
    {
     "data": {
      "image/png": "[encoded data removed]",
      "text/plain": [
       "<Figure size 640x480 with 2 Axes>"
      ]
     },
     "metadata": {},
     "output_type": "display_data"
    }
   ],
   "source": [
    "# KNN Model Evaluation\n",
    "trainAccScore,testAccScore,trainScore,testScore,cm=eval(KNNmodel)\n",
    "\n",
    "newRow = {'Model': 'KNN model', 'Train Accuracy %': trainAccScore,'Test Accuracy %': testAccScore}\n",
    "table = table.append(newRow, ignore_index=True)"
   ]
  },
  {
   "cell_type": "code",
   "execution_count": 617,
   "id": "32f75c2e",
   "metadata": {},
   "outputs": [
    {
     "data": {
      "text/html": [
       "<div>\n",
       "<style scoped>\n",
       "    .dataframe tbody tr th:only-of-type {\n",
       "        vertical-align: middle;\n",
       "    }\n",
       "\n",
       "    .dataframe tbody tr th {\n",
       "        vertical-align: top;\n",
       "    }\n",
       "\n",
       "    .dataframe thead th {\n",
       "        text-align: right;\n",
       "    }\n",
       "</style>\n",
       "<table border=\"1\" class=\"dataframe\">\n",
       "  <thead>\n",
       "    <tr style=\"text-align: right;\">\n",
       "      <th></th>\n",
       "      <th>Model</th>\n",
       "      <th>Train Accuracy %</th>\n",
       "      <th>Test Accuracy %</th>\n",
       "    </tr>\n",
       "  </thead>\n",
       "  <tbody>\n",
       "    <tr>\n",
       "      <th>0</th>\n",
       "      <td>RBF_SVMmodel</td>\n",
       "      <td>86.90</td>\n",
       "      <td>90.48</td>\n",
       "    </tr>\n",
       "    <tr>\n",
       "      <th>1</th>\n",
       "      <td>linear_SVMmodel</td>\n",
       "      <td>83.33</td>\n",
       "      <td>90.48</td>\n",
       "    </tr>\n",
       "    <tr>\n",
       "      <th>2</th>\n",
       "      <td>Random Forest model</td>\n",
       "      <td>100.00</td>\n",
       "      <td>85.71</td>\n",
       "    </tr>\n",
       "    <tr>\n",
       "      <th>3</th>\n",
       "      <td>KNN model</td>\n",
       "      <td>89.29</td>\n",
       "      <td>71.43</td>\n",
       "    </tr>\n",
       "  </tbody>\n",
       "</table>\n",
       "</div>"
      ],
      "text/plain": [
       "                 Model  Train Accuracy %  Test Accuracy %\n",
       "0         RBF_SVMmodel             86.90            90.48\n",
       "1      linear_SVMmodel             83.33            90.48\n",
       "2  Random Forest model            100.00            85.71\n",
       "3            KNN model             89.29            71.43"
      ]
     },
     "execution_count": 617,
     "metadata": {},
     "output_type": "execute_result"
    }
   ],
   "source": [
    "table.sort_values(by='Test Accuracy %', ascending=False)"
   ]
  },
  {
   "cell_type": "markdown",
   "id": "47ce6f61",
   "metadata": {},
   "source": [
    "The table shows that Random Forest and KNN models have 100% training score with 71.88% and 56.25% test score respectively. This indicate and overfit model for a small data set like this.\n",
    "\n",
    "SVM with rbf kernel is chosen as the best model for predictions"
   ]
  },
  {
   "cell_type": "code",
   "execution_count": 618,
   "id": "aec4d7b5",
   "metadata": {},
   "outputs": [],
   "source": [
    "# Saving the model for deployment with Streamlit\n",
    "import pickle as pkl\n",
    "model = pkl.dump(RBF_SVMmodel, open(r'C:\\Users\\Desktop\\Desktop\\ds_project\\kaggle\\mango/model.pkl', 'wb'))"
   ]
  },
  {
   "cell_type": "code",
   "execution_count": null,
   "id": "b4c17169",
   "metadata": {},
   "outputs": [],
   "source": []
  },
  {
   "cell_type": "code",
   "execution_count": null,
   "id": "754adfbf",
   "metadata": {},
   "outputs": [],
   "source": []
  }
 ],
 "metadata": {
  "kernelspec": {
   "display_name": "Python 3 (ipykernel)",
   "language": "python",
   "name": "python3"
  },
  "language_info": {
   "codemirror_mode": {
    "name": "ipython",
    "version": 3
   },
   "file_extension": ".py",
   "mimetype": "text/x-python",
   "name": "python",
   "nbconvert_exporter": "python",
   "pygments_lexer": "ipython3",
   "version": "3.9.13"
  }
 },
 "nbformat": 4,
 "nbformat_minor": 5
}
